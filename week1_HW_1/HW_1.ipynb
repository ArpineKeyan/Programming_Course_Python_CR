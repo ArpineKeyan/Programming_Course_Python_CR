{
  "nbformat": 4,
  "nbformat_minor": 0,
  "metadata": {
    "colab": {
      "name": "HW_1.ipynb",
      "provenance": [],
      "collapsed_sections": []
    },
    "kernelspec": {
      "name": "python3",
      "display_name": "Python 3"
    }
  },
  "cells": [
    {
      "cell_type": "code",
      "source": [
        "#Գրել ծրագիր, որը էկրանին դուրս կբերի Ձեր անունը և հասցեն։\n",
        "print(\"Arpine Keyan\")"
      ],
      "metadata": {
        "colab": {
          "base_uri": "https://localhost:8080/"
        },
        "id": "ecHhvGRCs1y-",
        "outputId": "baa18a16-4398-46ad-f8d6-43d15b1a465c"
      },
      "execution_count": null,
      "outputs": [
        {
          "output_type": "stream",
          "name": "stdout",
          "text": [
            "Arpine Keyan\n"
          ]
        }
      ]
    },
    {
      "cell_type": "code",
      "source": [
        "#Գրել ծրագիր, որը օգտատիրոջից ստանում է անունը և էկրանին դուրս բերում ողջույնի հաղորդագրություն օգտագործելով տրված անունը։\n",
        "user_input = input(\"Please enter the name: \")\n",
        "print(f\"Hi, {user_input}.\")"
      ],
      "metadata": {
        "colab": {
          "base_uri": "https://localhost:8080/"
        },
        "id": "MnD71daqs12l",
        "outputId": "3c13b430-09af-4d02-97bc-dfa83b627cba"
      },
      "execution_count": null,
      "outputs": [
        {
          "output_type": "stream",
          "name": "stdout",
          "text": [
            "Please enter the nameArmine\n",
            "Hi, Armine.\n"
          ]
        }
      ]
    },
    {
      "cell_type": "code",
      "source": [
        "#Գրել ծրագիր, որը հաշվում է սենյակի մակերեսը։ \n",
        "#Այն օգտատիրոջից ստանում է երկարություն և լայնություն ու հաշվում մակերեսը։ \n",
        "#Տվյալները փոխանցել float թվերի տեսքով, իսկ վերջնական արդյունքին ավելացնել չափման միավորը։\n",
        "user_input_length = float(input(\"Please enter the length: \"))\n",
        "user_input_width = float(input(\"Please enter the width: \"))\n",
        "print(f\"The square area is {user_input_length*user_input_width} square meters\")"
      ],
      "metadata": {
        "colab": {
          "base_uri": "https://localhost:8080/"
        },
        "id": "cVxOZBfHs16N",
        "outputId": "8350e998-4619-4e0e-a7e6-c2263dce4a35"
      },
      "execution_count": null,
      "outputs": [
        {
          "output_type": "stream",
          "name": "stdout",
          "text": [
            "Please enter the length: 5\n",
            "Please enter the width: 3\n",
            "The square area is 15.0 square meters\n"
          ]
        }
      ]
    },
    {
      "cell_type": "code",
      "source": [
        "#Գրել ծրագիր, որը հաշվում է հողամասի մակերեսը։ \n",
        "#Այն օգտատիրոջից ստանում է երկարություն և լայնություն ֆունտերով և հաշվում մակերեսը ակռերով։ \n",
        "#1 ակռը 43560 ֆունտ քառակուսի է։\n",
        "user_input_length = int(input(\"Please enter the length in arcs: \"))\n",
        "user_input_width = int(input(\"Please enter the width in arcs: \"))\n",
        "measurment = 43560\n",
        "print(f\"The square area is {(user_input_length*user_input_width)*measurment} square meters in pounds.\")\n"
      ],
      "metadata": {
        "colab": {
          "base_uri": "https://localhost:8080/"
        },
        "id": "0Ms8Rhius19v",
        "outputId": "5a0f8110-fdbd-4125-dbe7-58f070ecb201"
      },
      "execution_count": null,
      "outputs": [
        {
          "output_type": "stream",
          "name": "stdout",
          "text": [
            "Please enter the length in arcs: 10\n",
            "Please enter the width in arcs: 100\n",
            "The square area is 43560000 square meters in pounds.\n"
          ]
        }
      ]
    },
    {
      "cell_type": "code",
      "source": [
        "#Որոշ երկրներում խրախուսվում է դատարկ ապակե շշերի վերադարձը, և գոյություն ունի հատուկ գնացուցակ։ \n",
        "#Օրինակ՝ 1 լիտր և ցածր տարողունակությամբ շշերը արժեն $0.10, իսկ ավելի բարձրերը  $0.25։ \n",
        "#Գրել ծրագիր, որը օգտատիրոջից կհարցնի շշերի քանակը յուրաքանչյուր ծավալից և կհաշվի ընդհանուր գումարը։ \n",
        "#Արդյունքը պետք է ներկայացնել ստորակետից հետո երկու թվանշանով և ձախից $ նշանով։\n",
        "\n",
        "one_liter_bottle_price = 0.10\n",
        "bigger_bottle_price = 0.25\n",
        "\n",
        "one_liter_bottle_count = int(input(\"Please eneter the number of one liter bottles: \"))\n",
        "bigger_bottle_count = int(input(\"Please eneter the number of bigger bottles: \"))\n",
        "\n",
        "one_liter_bottle_total = one_liter_bottle_price * one_liter_bottle_count\n",
        "bigger_bottle_total = bigger_bottle_price * bigger_bottle_count\n",
        "print(f\"The overall price for the mentioned bottles is: ${one_liter_bottle_total + bigger_bottle_total :.2f}\")\n",
        "\n"
      ],
      "metadata": {
        "colab": {
          "base_uri": "https://localhost:8080/"
        },
        "id": "zzgLZvuXs2Bc",
        "outputId": "1ae62ae5-e869-48fb-82a2-66cb6ebac96d"
      },
      "execution_count": null,
      "outputs": [
        {
          "output_type": "stream",
          "name": "stdout",
          "text": [
            "Please eneter the number of one liter bottles: 5\n",
            "Please eneter the number of bigger bottles: 3\n",
            "The overall price for the mentioned bottles is: $1.25\n"
          ]
        }
      ]
    },
    {
      "cell_type": "markdown",
      "source": [
        ""
      ],
      "metadata": {
        "id": "9LKYL9xIbBFC"
      }
    },
    {
      "cell_type": "code",
      "metadata": {
        "colab": {
          "base_uri": "https://localhost:8080/"
        },
        "id": "qMUcBJ-FIlK-",
        "outputId": "0bcaaf1f-92fb-4247-d266-3275770a212a"
      },
      "source": [
        "#Ծրագիրը որ պետք է գրվի, սկսվում է օգտատիրոջից ռեստորանային պատվերի գումարի հարցումով։ \n",
        "#Որից հետո պետք է հաշվարկել հարկերը և թեյավճարը։ Թեյավճարի համար սահմանված է 18%, առանց հարկերը հաշվի առնելու, \n",
        "#իսկ հարկերը կազմում են գումարի 20%֊ը։ Ծրագրի աշխատանքի վերջում պետք է դուրս բերվի առանձին հարկերը, \n",
        "#թեյավճարը և ամբողջ վճարման ենթակա գումարը։ Թվերը ներկայացնել ստորակետից հետո երկու թվանշանով։\n",
        "\n",
        "user_input = float(input(\"Please enter the order amount: \"))\n",
        "additional_cost = round(user_input * 18 / 100, 2)\n",
        "additional_tax = round(user_input * 20 / 100, 2)\n",
        "print(f\"The additional_cost for this order is: {additional_cost: .2f}\")\n",
        "print(f\"The additional tax for this order is: {additional_tax: .2f}\")\n",
        "print(f\"The whole amount to pay is: {additional_cost + additional_tax: .2f}\")"
      ],
      "execution_count": null,
      "outputs": [
        {
          "output_type": "stream",
          "name": "stdout",
          "text": [
            "Please enter the order amount: 500\n",
            "The additional_cost for this order is:  90.00\n",
            "The additional tax for this order is:  100.00\n",
            "The whole amount to pay is:  190.00\n"
          ]
        }
      ]
    },
    {
      "cell_type": "code",
      "metadata": {
        "id": "whS6iXb3IlOa",
        "colab": {
          "base_uri": "https://localhost:8080/"
        },
        "outputId": "545e6633-b7f5-4d96-f015-1096438c41d2"
      },
      "source": [
        "#Գրել ծրագիր, որը օգտատիրոջից հարցնում է թիվ և հաշվում 1-ից մինչև n ամբողջ թվերի գումարը։\n",
        "user_input = int(input(\"Please enter the number: \"))\n",
        "sum = 0\n",
        "for i in range(user_input):\n",
        "  sum += i\n",
        "print(sum)\n"
      ],
      "execution_count": null,
      "outputs": [
        {
          "output_type": "stream",
          "name": "stdout",
          "text": [
            "Please enter the number: 15\n",
            "105\n"
          ]
        }
      ]
    },
    {
      "cell_type": "code",
      "metadata": {
        "id": "m0otMsbLIlVG",
        "colab": {
          "base_uri": "https://localhost:8080/"
        },
        "outputId": "ebaf6b1a-0f20-419f-8c9f-0455c3bc51ed"
      },
      "source": [
        "#Օնլայն խանութը զբաղվում է հուշանվերների և այլ մանրուքների վաճառքով։ Ամեն հուշանվերի քաշը 75 գրամ է, իսկ մանրուքը՝ 112 գրամ։ \n",
        "#Գրել ծրագիր, որը օգտատիրոջից հարցնում է գնումների քանակը՝ հուշանվերների և մանրուքների, որից հետո էկրանին դուրս բերել \n",
        "#ծանրոցի ընդհանուր քաշը։\n",
        "\n",
        "souvenir_weight = 75\n",
        "trifle_weight = 112\n",
        "\n",
        "souvenir_count = int(input(\"Please enter souvenirs' count: \"))\n",
        "trifle_count = int(input(\"Please enter trifles' count: \"))\n",
        "\n",
        "total_weight = souvenir_weight * souvenir_count + trifle_weight * trifle_count\n",
        "print(\"The total weight of order is: \", total_weight)\n",
        "\n",
        "\n"
      ],
      "execution_count": null,
      "outputs": [
        {
          "output_type": "stream",
          "name": "stdout",
          "text": [
            "Please enter souvenirs' count: 5\n",
            "Please enter trifles' count: 3\n",
            "The total weight of order is:  711\n"
          ]
        }
      ]
    },
    {
      "cell_type": "code",
      "metadata": {
        "id": "2HuMPO11IlYe",
        "colab": {
          "base_uri": "https://localhost:8080/"
        },
        "outputId": "ad5cccef-b204-4fb8-c31e-a11eb64f368c"
      },
      "source": [
        "#Պատկերացրեք, որ բանկում բացել եք խնայողական հաշիվ՝ տարեկան 4% տոկոսադրույքով։ \n",
        "#Տոկոսները բանկը հաշվում է տարվա վերջում և ավելացնում է հաշվին եղած գումարին։ \n",
        "#Գրել ծրագիր, որը օգտատիրոջից հարցնում է նախնական ներդրման չափը, որից հետո հաշվարկում և դուրս է բերում էկրանին առաջին, \n",
        "#երկրորդ և երրորդ տարիների հաշվեկշիռը։\n",
        "\n",
        "yearly_percentage = 4 /100\n",
        "amount = int(input(\"Please enter the amount of loan: \"))\n",
        "for i in range(3):\n",
        "  print(f\"Your loan amount for year is {i + 1}: {amount * (1 + yearly_percentage) ** (i+1): .2f}.\")"
      ],
      "execution_count": null,
      "outputs": [
        {
          "output_type": "stream",
          "name": "stdout",
          "text": [
            "Please enter the amount of loan: 100\n",
            "Your loan amount for year is 1:  104.00.\n",
            "Your loan amount for year is 2:  108.16.\n",
            "Your loan amount for year is 3:  112.49.\n"
          ]
        }
      ]
    },
    {
      "cell_type": "code",
      "source": [
        "#Գրել ծրագիր, որը օգտատիրոջից հարցնում է a և b ամբողջ թվեր, որից հետո դուրս է բերում էկրանին հետևյալ մաթեմատիկական գործողությունների \n",
        "#արդյունքը՝\n",
        "#  գումարը\n",
        "#  տարբերությունը\n",
        "#  բաժանում\n",
        "#  բաժանման ամբողջ մասը aից b\n",
        "#  բաժանման մնացորդը aից b\n",
        "#  տասական լոգարթմը a թվի (օգտագործել math գրադարանը)\n",
        "\n",
        "import math\n",
        "\n",
        "a = int(input())\n",
        "b = int(input())\n",
        "\n",
        "print(f\"The sum: {a + b}\")\n",
        "print(f\"The diff: {a - b}\")\n",
        "print(f\"The div: {a / b}\")\n",
        "print(f\"The div_down: {a // b}\")\n",
        "print(f\"The div_rem: {a % b}\")\n",
        "print(f\"The lg: {math.log(a, 10)}\")\n",
        "\n"
      ],
      "metadata": {
        "colab": {
          "base_uri": "https://localhost:8080/"
        },
        "id": "wxOwYVVsEIJM",
        "outputId": "775767ec-70a0-466b-8a62-f88828587cad"
      },
      "execution_count": null,
      "outputs": [
        {
          "output_type": "stream",
          "name": "stdout",
          "text": [
            "10\n",
            "3\n",
            "The sum: 13\n",
            "The diff: 7\n",
            "The div: 3.3333333333333335\n",
            "The div_down: 3\n",
            "The div_rem: 1\n",
            "The lg: 1.0\n"
          ]
        }
      ]
    },
    {
      "cell_type": "code",
      "source": [
        "#Ամն֊ում վառելիքի օգտագործումը չափվում են miles-per-gallon(MPG): Միևնույն ժամանակ Կանադայում այս ցուցանիշը չափվում է \n",
        "#liters-per-hundred kilometers(L/100km)։ Օգտագործելով Ձեր հետազոտական գիտելիքները, MPG-ն փոխակերպեք L/100km֊ի։ \n",
        "#Գրել ծրագիր, որը օգտատիրոջից հարցնում է MPG-ն և դուրս բերում L/100km֊ին։\n",
        "#1 liter per 100 kilometers equals 235.2 US MPG or 282.5 Imperial MPG\n",
        "mpg = float(input())\n",
        "lph = 235.2 * mpg\n",
        "print(lph)"
      ],
      "metadata": {
        "colab": {
          "base_uri": "https://localhost:8080/"
        },
        "id": "uOqstHreEIMz",
        "outputId": "a29d494c-6d78-4c1e-8013-c01383b4b070"
      },
      "execution_count": null,
      "outputs": [
        {
          "output_type": "stream",
          "name": "stdout",
          "text": [
            "5\n",
            "1176.0\n"
          ]
        }
      ]
    },
    {
      "cell_type": "code",
      "source": [
        "#Մոլորակի վրա շատ մարդիկ սովոր են մարդու հասակը հաշվարկել ֆուտով և դյույմներով, նույնիսկ եթե նրանց երկիրն ունի մետրային համակարգ: \n",
        "#Գրեք ծրագիր, որը հարցնում է օգտատիրոջը, թե քանի ֆուտ և դյույմ է իրենց հասակը: \n",
        "#Դրանից հետո պետք է վերահաշվարկի հասակը սանտիմետրերով և ցուցադրի այն էկրանին:                    \n",
        "#Հուշում. Մեկ ֆուտը հավասար է 12 դյույմ, իսկ մեկ դյույմը հավասար է 2,54 սմ:\n",
        "ft_input = float(input())\n",
        "inch_input = float(input())\n",
        "ft_to_sm = 12 * ft_input * 2.54 + inch_input * 2.54\n",
        "print(f\"{ft_to_sm}sm\")\n",
        "\n"
      ],
      "metadata": {
        "colab": {
          "base_uri": "https://localhost:8080/"
        },
        "id": "5zhSPtoNSRLk",
        "outputId": "25abe7c4-1ea8-4391-82d1-c7bae050f00a"
      },
      "execution_count": null,
      "outputs": [
        {
          "output_type": "stream",
          "name": "stdout",
          "text": [
            "15\n",
            "20\n",
            "508.0sm\n"
          ]
        }
      ]
    },
    {
      "cell_type": "code",
      "source": [
        "#Այս վարժության համար ձեզ հարկավոր է գրել ծրագիր, որը օգտատիրոջից հարցնում է հեռավորությունը ֆուտով: \n",
        "#Դրանից հետո նա պետք է այդ թիվը վերահաշվարկի դյույմերի, յարդերի և մղոնների և դուրս բերի այն էկրանին: \n",
        "#Դուք կարող եք հեշտությամբ գտնել միավորների փոխակերպման գործակիցները ինտերնետում։\n",
        "ft_input = float(input())\n",
        "inch = ft_input / 12\n",
        "yard = 36 * inch\n",
        "mile = 1760 * yard\n",
        "print(\"inch - \", inch)\n",
        "print(\"yard - \", yard)\n",
        "print(\"mile - \", mile)\n",
        "\n"
      ],
      "metadata": {
        "colab": {
          "base_uri": "https://localhost:8080/"
        },
        "id": "4VuT6mXLSRPM",
        "outputId": "a155633f-4315-47eb-efcf-4bcfe2e5c4d3"
      },
      "execution_count": null,
      "outputs": [
        {
          "output_type": "stream",
          "name": "stdout",
          "text": [
            "48\n",
            "inch -  4.0\n",
            "yard -  144.0\n",
            "mile -  253440.0\n"
          ]
        }
      ]
    },
    {
      "cell_type": "code",
      "source": [
        "#Գրեք ծրագիր, որը օգտատիրոջից կհարցնի շառավիղ և կպահպանի այն r փոփոխականում: \n",
        "#Դրանից հետո այն պետք է հաշվարկի տվյալ շառավղով շրջանագծի մակերեսը և նույն շառավղով գնդակի ծավալը: \n",
        "#Ձեր հաշվարկներում օգտագործեք math մոդուլի pi հաստատունը: Հուշում. Շրջանի մակերեսը հաշվում են area = πr**2 բանաձևով, \n",
        "#իսկ գնդի ծավալը՝ volume = 4/3(πr**3)\n",
        "import math\n",
        "\n",
        "r = int(input())\n",
        "area = math.pi * r**2\n",
        "volume = (4 / 3) * (math.pi * r**3)\n",
        "print(f\"area {area: .2f}\")\n",
        "print(f\"volume {volume: .2f}\")\n",
        "\n"
      ],
      "metadata": {
        "colab": {
          "base_uri": "https://localhost:8080/"
        },
        "id": "P8-1XEtvSRWJ",
        "outputId": "edbb41e7-cea6-4bb5-de2f-3c16cecb2d4a"
      },
      "execution_count": null,
      "outputs": [
        {
          "output_type": "stream",
          "name": "stdout",
          "text": [
            "3\n",
            "area  28.27\n",
            "volume  113.10\n"
          ]
        }
      ]
    },
    {
      "cell_type": "code",
      "source": [
        "#Գլանի ծավալը կարելի է հաշվարկել՝ հիմքում ընկած շրջանագծի մակերեսը բազմապատկելով նրա բարձրությամբ: \n",
        "#Գրեք ծրագիր, որտեղ օգտատերը կմուտքագրի գլանի շառավիղը և դրա բարձրությունը, և ի պատասխան կստանա դրա ծավալը՝ \n",
        "#կլորացված մինչև մեկ տասնորդական:\n",
        "import math\n",
        "\n",
        "r = int(input())\n",
        "h = int(input())\n",
        "area = h * math.pi * r**2\n",
        "print(f\"Area is: {area: .2f}\")"
      ],
      "metadata": {
        "colab": {
          "base_uri": "https://localhost:8080/"
        },
        "id": "1NAkQjiVSRZl",
        "outputId": "1712ba76-5943-44b4-b865-0216832758cc"
      },
      "execution_count": null,
      "outputs": [
        {
          "output_type": "stream",
          "name": "stdout",
          "text": [
            "3\n",
            "3\n",
            "Area is:  84.82\n"
          ]
        }
      ]
    },
    {
      "cell_type": "code",
      "source": [
        "#Գրեք ծրագիր՝ հաշվարկելու օբյեկտի արագությունը գետնին հասնելու պահին: \n",
        "#Օգտատերը պետք է մուտքագրի բարձրությունը մետրերով, որից օբյեկտը բաց է թողնվում: \n",
        "#Քանի որ օբյեկտին նախնական արագացում չի տրվել, մենք դրա սկզբնական արագությունը կընդունենք 0 մ/վ: \n",
        "#Ենթադրենք, որ ազատ անկման արագացումը 9,8 մ/վ**2: Հաշվի առնելով սկզբնական արագությունը (v), \n",
        "#արագացումը (a) և հեռավորությունը (d), կարող եք հաշվարկել արագությունը երբ առարկան դիպչում է գետնին ըստ բանաձևի՝  v**2 + 2ad\n",
        "\n",
        "d = int(input())\n",
        "v = 0\n",
        "a = 9.8\n",
        "res = v**2 + 2*a*d\n",
        "print(res)\n"
      ],
      "metadata": {
        "colab": {
          "base_uri": "https://localhost:8080/"
        },
        "id": "iB7iMmNhSRdL",
        "outputId": "b9b9a4cb-bbe2-48ca-a65f-d60ced1c09a0"
      },
      "execution_count": null,
      "outputs": [
        {
          "output_type": "stream",
          "name": "stdout",
          "text": [
            "10\n",
            "196.0\n"
          ]
        }
      ]
    },
    {
      "cell_type": "code",
      "source": [
        "#Եռանկյան մակերեսը կարելի է հաշվարկել հետևյալ բանաձևով՝                                              \n",
        "#              area = (b*h)/2                                                                                                       \n",
        "#որտեղ b-ն եռանկյան հիմքի երկարությունն է, իսկ h-ը՝ բարձրությունը։       \n",
        "#Գրեք ծրագիր, որը թույլ է տալիս օգտատիրոջը մուտքագրել արժեքներ b և h փոփոխականների համար, \n",
        "#որից հետո էկրանին դուրս կբերվի եռանկյունու մակերեսը նշված հիմքով և բարձրությամբ:\n",
        "\n",
        "b = int(input())\n",
        "h = int(input())\n",
        "area = (b*h)/2\n",
        "print(area)"
      ],
      "metadata": {
        "colab": {
          "base_uri": "https://localhost:8080/"
        },
        "id": "UkM6X49pSRgq",
        "outputId": "5a7c2545-8926-4995-ec98-d94828b262e7"
      },
      "execution_count": null,
      "outputs": [
        {
          "output_type": "stream",
          "name": "stdout",
          "text": [
            "10\n",
            "3\n",
            "15.0\n"
          ]
        }
      ]
    },
    {
      "cell_type": "code",
      "source": [
        "#Նախորդ վարժությունում մենք հաշվարկել ենք եռանկյան մակերեսը՝ հաշվի առնելով նրա հիմքի երկարությունը և բարձրությունը: \n",
        "#Բայց դուք կարող եք նաև հաշվարկել մակերեսը՝ ելնելով եռանկյան բոլոր երեք կողմերի երկարություններից: \n",
        "#Դիցուք s1 , s2 և s3 կլինեն կողմերի երկարությունները, և\n",
        "#              s = (s 1 + s 2 + s 3 )/2:\n",
        "# Այդ դեպքում եռանկյան մակերեսը կարելի է հաշվարկել հետևյալ բանաձևով.           \n",
        "#              area = s* (s - s1) * (s- s2) * (s - s3)   \n",
        "#Գրեք ծրագիր, որը մուտքագրում է եռանկյան բոլոր երեք կողմերի երկարությունները և հաշվարկում է դրա մակերեսը:     \n",
        "s1 = int(input())\n",
        "s2 = int(input())\n",
        "s3 = int(input())\n",
        "s = (s1 + s2 + s3 )/2\n",
        "area = s* (s - s1) * (s - s2) * (s - s3)  \n",
        "print(area)"
      ],
      "metadata": {
        "colab": {
          "base_uri": "https://localhost:8080/"
        },
        "id": "bpoFXf1TEIWM",
        "outputId": "f69658fb-970e-44ea-b15e-b6f7bb4912c9"
      },
      "execution_count": null,
      "outputs": [
        {
          "output_type": "stream",
          "name": "stdout",
          "text": [
            "3\n",
            "4\n",
            "5\n",
            "36.0\n"
          ]
        }
      ]
    },
    {
      "cell_type": "code",
      "source": [
        "#Գրել ծրագիր, որը թույլ է տալիս օգտատիրոջը մուտքագրել ժամանակահատված՝ օրերի, ժամերի, րոպեների և վայրկյանների տեսքով և \n",
        "#հաշվել վայրկյանների ընդհանուր քանակը տվյալ ժամանակահատվածում:\n",
        "days = int(input(\"Please input days: \"))\n",
        "hours = int(input(\"Please input hours: \"))\n",
        "mins = int(input(\"Please input minutes: \"))\n",
        "secs = int(input(\"Please input seconds: \"))\n",
        "day_in_seconds = days * 24 * 60 * 60\n",
        "hour_in_seconds = hours * 60 * 60\n",
        "min_in_seconds = mins * 60\n",
        "total_sec = day_in_seconds + hour_in_seconds + min_in_seconds + secs\n",
        "print(f\"The entered period of {days} days {hours} hours {mins} minutes and {secs} seconds is equal to {total_sec} seconds\")\n"
      ],
      "metadata": {
        "id": "9MJchVmxevdY",
        "colab": {
          "base_uri": "https://localhost:8080/"
        },
        "outputId": "86dfcdbf-c356-4814-e634-f55ae0c285a2"
      },
      "execution_count": 2,
      "outputs": [
        {
          "output_type": "stream",
          "name": "stdout",
          "text": [
            "Please input days: 3\n",
            "Please input hours: 3\n",
            "Please input minutes: 3\n",
            "Please input seconds: 3\n",
            "The entered period of 3 days 3 hours 3 minutes and 3 seconds is equal to 270183 seconds\n"
          ]
        }
      ]
    },
    {
      "cell_type": "code",
      "source": [
        "#Python-ի time մոդուլը ներառում է ժամանակի հետ աշխատելու համար շատ օգտակար ֆունկցիաներ: \n",
        "#Այս ֆունկցիաներից մեկը՝ asctime-ը, կարդում է համակարգչի ընթացիկ համակարգի ժամանակը և վերադարձնում այն ​​ընթեռնելի տեսքով: \n",
        "#Օգտագործեք այս ֆունկցիան՝ ընթացիկ ամսաթիվը և ժամը էկրանին ցուցադրելու համար: Այս անգամ օգտատերից որևէ մուտքի կարիք չեք ունենա:\n",
        "import time\n",
        "\n",
        "_time = time.asctime()\n",
        "print(_time)"
      ],
      "metadata": {
        "id": "Rq6zry9pevg-",
        "colab": {
          "base_uri": "https://localhost:8080/"
        },
        "outputId": "ef19ea9d-8956-46dc-de70-c54e68eeb42d"
      },
      "execution_count": 1,
      "outputs": [
        {
          "output_type": "stream",
          "name": "stdout",
          "text": [
            "Tue Jul  5 08:22:58 2022\n"
          ]
        }
      ]
    },
    {
      "cell_type": "code",
      "source": [
        "#Ամսվա օրերի քանակը տատանվում է 28-ից մինչև 31: \n",
        "#Ձեր հաջորդ ծրագիրը պետք է օգտատիրոջից հարցնի ամսվա անունը և ցուցադրի դրա օրերի քանակը:\n",
        "#Քանի որ մենք տարիները հաշվի չենք առնում, կարող ենք փետրվար ամսվա հաղորդագրություն տպել՝ \n",
        "#նշելով, որ այս ամիսը կարող է ունենալ 28 կամ 29 օր՝ նահանջ տարվա գործոնը հաշվի առնելու համար:\n",
        "months_31 = (\"January\", \"March\", \"May\", \"July\", \"August\")\n",
        "months_30 = (\"April\", \"June\", \"September\")\n",
        "user_input = input()\n",
        "if user_input in months_31:\n",
        "  print(f\"{user_input} has 31 day\")\n",
        "elif user_input in months_30:\n",
        "  print(f\"{user_input} has 30 days\")\n",
        "else:\n",
        "  print(\"February can have 28 or 29 days.\")\n"
      ],
      "metadata": {
        "id": "v7WNG5aeevkm",
        "colab": {
          "base_uri": "https://localhost:8080/"
        },
        "outputId": "bf9d8b65-2f45-4980-99d6-480e5af55e80"
      },
      "execution_count": 9,
      "outputs": [
        {
          "output_type": "stream",
          "name": "stdout",
          "text": [
            "February\n",
            "February can have 28 or 29 days.\n"
          ]
        }
      ]
    },
    {
      "cell_type": "code",
      "source": [
        "#Գրել ծրագիր, որը օգտատիրոջից ստանում է լատինական այբուբենի տառը: \n",
        "#Եթե ​​մուտքագրած տառը գտնվում է հետևյալ ցանկում (a, e, i, o կամ u), պետք է տպել հաղորդագրություն, որ տառը ձայնավոր է: \n",
        "#Եթե ​​y տառն է մուտքագրվել, ծրագիրը պետք է տպի, որ այս տառը կարող է լինել և ձայնավոր, և բաղաձայն: \n",
        "#Մնացած բոլոր դեպքերում պետք է տպվի հաղորդագրություն, որում նշվում է, որ մուտքագրվել է բաղաձայն:\n",
        "vowels = (\"a\", \"e\", \"i\", \"o\", \"u\")\n",
        "entered_letter = input(\"Please enter a letter: \")\n",
        "if entered_letter in vowels:\n",
        "  print(\"The letter is vwoel.\")\n",
        "elif entered_letter is \"y\":\n",
        "  print(\"The letter is not vowel nor consonant.\")\n",
        "else:\n",
        "  print(\"The letter is consonant.\")\n"
      ],
      "metadata": {
        "colab": {
          "base_uri": "https://localhost:8080/"
        },
        "id": "FFiqD_SDevoB",
        "outputId": "137270ec-4b7c-41cd-d93d-f7c7e1418b5b"
      },
      "execution_count": null,
      "outputs": [
        {
          "output_type": "stream",
          "name": "stdout",
          "text": [
            "Please enter a letter: d\n",
            "The letter is consonant.\n"
          ]
        }
      ]
    },
    {
      "cell_type": "code",
      "source": [
        "#Տարին բաժանված է չորս եղանակների՝ ձմեռ, գարուն, ամառ և աշուն։ \n",
        "#Գրել ծրագիր, որը ստանում է օգտատիրոջից օրը և ամիսը՝ սկզբում ամիսը տեքստային ձևով, այնուհետև օրը: \n",
        "#Ելքի ժամանակ ծրագիրը պետք է տպի ​​այն սեզոնի անվանումը, որին պատկանում է ընտրված ամսաթիվը:\n",
        "winter = (\"December\", \"January\", \"February\")\n",
        "spring = (\"March\", \"April\", \"May\")\n",
        "summer = (\"June\", \"July\", \"August\") \n",
        "autumn =(\"September\", \"October\", \"November\")\n",
        "month = input(\"Please enter the month: \")\n",
        "day_input = int(input(\"Please enter the day: \"))\n",
        "if month in winter:\n",
        "  print(\"Winter\")\n",
        "elif month in spring:\n",
        "  print(\"Spring\")\n",
        "elif month in autumn:\n",
        "  print(\"Autumn\")\n",
        "else:\n",
        "  print(\"Summer\")\n"
      ],
      "metadata": {
        "colab": {
          "base_uri": "https://localhost:8080/"
        },
        "id": "RLT3zWQtevrk",
        "outputId": "b29c03e8-a221-4e6a-f6aa-99c8c464236c"
      },
      "execution_count": null,
      "outputs": [
        {
          "output_type": "stream",
          "name": "stdout",
          "text": [
            "Please enter the month: September\n",
            "Please enter the day: 3\n",
            "Autumn\n"
          ]
        }
      ]
    },
    {
      "cell_type": "code",
      "source": [
        "#Գրել ծրագիր՝ օգտատիրոջ մուտքագրած բոլոր թվերի միջինը հաշվարկելու համար: \n",
        "#Զրոն կծառայի որպես մուտքագրման ավարտի ցուցիչ: \n",
        "#Այս դեպքում ծրագիրը պետք է թողարկի համապատասխան սխալի հաղորդագրություն, \n",
        "#եթե օգտագործողի կողմից մուտքագրված առաջին արժեքը զրո է \n",
        "#(քանի որ զրոն մուտքագրման ավարտի ցուցանիշն է, այն պետք չէ հաշվի առնել միջինը հաշվարկելիս):\n",
        "lst = []\n",
        "user_input = int(input()) \n",
        "while user_input != 0:\n",
        "  lst.append(user_input)\n",
        "  user_input = int(input()) \n",
        "print(sum(lst)/len(lst))"
      ],
      "metadata": {
        "colab": {
          "base_uri": "https://localhost:8080/"
        },
        "id": "4xUhHBttrXbz",
        "outputId": "c3208730-7f1d-49b6-e66a-33bdda598255"
      },
      "execution_count": 2,
      "outputs": [
        {
          "output_type": "stream",
          "name": "stdout",
          "text": [
            "5\n",
            "3\n",
            "4\n",
            "1\n",
            "0\n",
            "3.25\n"
          ]
        }
      ]
    },
    {
      "cell_type": "code",
      "source": [
        "#Գրել ծրագիր՝ ջերմաստիճանների հարաբերակցության աղյուսակը ցուցադրելու համար՝ արտահայտված Ցելսիուսի և Ֆարենհայթի աստիճաններով:\n",
        "#Աղյուսակում պետք է թվարկվեն 0-ից մինչև 100 աստիճան Ցելսիուսի բոլոր ջերմաստիճանները 10-ի բազմապատիկ:\n",
        "#To convert temperatures in degrees Celsius to Fahrenheit, multiply by 1.8 (or 9/5) and add 32.\n",
        "i = 0\n",
        "while i < 101:\n",
        "  print(f\"{i}C is {i * 1.8 +32: .0f}F.\")\n",
        "  i += 10\n",
        "\n"
      ],
      "metadata": {
        "id": "afISMmEtewRH",
        "colab": {
          "base_uri": "https://localhost:8080/"
        },
        "outputId": "c7d244e4-2389-4a83-ca42-4804892d47b5"
      },
      "execution_count": 13,
      "outputs": [
        {
          "output_type": "stream",
          "name": "stdout",
          "text": [
            "0C is  32F.\n",
            "10C is  50F.\n",
            "20C is  68F.\n",
            "30C is  86F.\n",
            "40C is  104F.\n",
            "50C is  122F.\n",
            "60C is  140F.\n",
            "70C is  158F.\n",
            "80C is  176F.\n",
            "90C is  194F.\n",
            "100C is  212F.\n"
          ]
        }
      ]
    },
    {
      "cell_type": "code",
      "source": [
        "#Fizz-Buzz-ը հայտնի խաղ է, որն օգնում է երեխաներին խաղային ձևով սովորել բաժանման կանոնները: \n",
        "#Մասնակիցները նստում են շրջանաձև, որպեսզի խաղը տեսականորեն շարունակվի անվերջ: \n",
        "#Առաջին խաղացողն ասում է «Մեկ» և քայլը փոխանցում ձախ կողմում գտնվողին: \n",
        "#Յուրաքանչյուր հաջորդ խաղացող պետք է մտովի ավելացնի մեկը նախորդ թվին և ասի կամ այն, կամ հիմնաբառերից մեկը. \n",
        "#Fizz՝ եթե թիվը բաժանվում է երեքի, կամ Buzz՝ եթե այն բաժանվում է հինգի: \n",
        "#Եթե ​​այս երկու պայմաններն էլ բավարարվեն, նա ասում է Fizz-Buzz: \n",
        "#Այն խաղացողը, ով չի կարողանում ասել ճիշտ բառը, խաղից դուրս է գալիս: \n",
        "#Վերջին մնացած խաղացողը ճանաչվում է հաղթող: Մշակեք ծրագիր, որն իրականացնում է Fizz-Buzz խաղի ալգորիթմը առաջին 100 թվերի համար: \n",
        "#Յուրաքանչյուր հաջորդ պատասխան պետք է տպվի նոր տողում:\n",
        "\n",
        "for i in range(1, 101):\n",
        "  if i % 3 == 0:\n",
        "    keyword = \"Fizz\"\n",
        "  elif i % 5 == 0:\n",
        "    keyword = \"Buzz\"\n",
        "  else:\n",
        "    keyword = i\n",
        "  print(keyword)"
      ],
      "metadata": {
        "id": "n6Hs_js8e6qI"
      },
      "execution_count": null,
      "outputs": []
    }
  ]
}